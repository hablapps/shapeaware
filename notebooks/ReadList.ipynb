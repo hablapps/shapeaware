{
 "cells": [
  {
   "cell_type": "markdown",
   "id": "174a11a6",
   "metadata": {},
   "source": [
    "Shape-aware list ADT."
   ]
  },
  {
   "cell_type": "code",
   "execution_count": 1,
   "id": "6240b9cb",
   "metadata": {},
   "outputs": [
    {
     "data": {
      "text/plain": [
       "defined \u001b[32mclass\u001b[39m \u001b[36mList\u001b[39m\n",
       "defined \u001b[32mclass\u001b[39m \u001b[36mNil\u001b[39m\n",
       "defined \u001b[32mclass\u001b[39m \u001b[36mCons\u001b[39m"
      ]
     },
     "execution_count": 1,
     "metadata": {},
     "output_type": "execute_result"
    }
   ],
   "source": [
    "sealed abstract class List[A]\n",
    "case class Nil[A]() extends List[A]\n",
    "case class Cons[A, T <: List[A]](head: A, tail: T) extends List[A]"
   ]
  },
  {
   "cell_type": "code",
   "execution_count": 2,
   "id": "286dcd1d",
   "metadata": {},
   "outputs": [
    {
     "data": {
      "text/plain": [
       "\u001b[32mimport \u001b[39m\u001b[36mscala.io.StdIn.readLine\u001b[39m"
      ]
     },
     "execution_count": 2,
     "metadata": {},
     "output_type": "execute_result"
    }
   ],
   "source": [
    "import scala.io.StdIn.readLine"
   ]
  },
  {
   "cell_type": "markdown",
   "id": "1c717457",
   "metadata": {},
   "source": [
    "Type-level function that receives the shape of a list \n",
    "and returns an instance of that precise shape obtained from the standard input \n",
    "(provided the list typed matches the specified shape).\n",
    "\n"
   ]
  },
  {
   "cell_type": "code",
   "execution_count": 3,
   "id": "82d23ec2",
   "metadata": {},
   "outputs": [
    {
     "data": {
      "text/plain": [
       "defined \u001b[32mtrait\u001b[39m \u001b[36mReadList\u001b[39m\n",
       "defined \u001b[32mobject\u001b[39m \u001b[36mReadList\u001b[39m"
      ]
     },
     "execution_count": 3,
     "metadata": {},
     "output_type": "execute_result"
    }
   ],
   "source": [
    "// Type-level signature\n",
    "\n",
    "trait ReadList[L <: List[String]]{\n",
    "    def apply(): Option[L]\n",
    "}\n",
    "\n",
    "object ReadList{\n",
    "    \n",
    "    def apply[L <: List[String]](implicit R: ReadList[L]): Option[L] = \n",
    "        R.apply\n",
    "    \n",
    "    // Type-level definition\n",
    "    \n",
    "    implicit object NilReadList extends ReadList[Nil[String]]{\n",
    "        def apply(): Option[Nil[String]] = \n",
    "            if (readLine == \"\") Some(Nil())\n",
    "            else None\n",
    "    }\n",
    "    \n",
    "    implicit def ConsReadList[T <: List[String]](implicit T: ReadList[T]) = new ReadList[Cons[String, T]]{\n",
    "        def apply(): Option[Cons[String, T]] = {\n",
    "            val head = readLine\n",
    "            if (head == \"\") None\n",
    "            else T.apply.map(Cons(head, _))\n",
    "        }\n",
    "    }\n",
    "}\n",
    "    "
   ]
  },
  {
   "cell_type": "markdown",
   "id": "24bc9856",
   "metadata": {},
   "source": [
    "Read a list of two elements from the standard input (the actual `ReadList` function is constructed at compile-time):"
   ]
  },
  {
   "cell_type": "code",
   "execution_count": 4,
   "id": "308bf945",
   "metadata": {},
   "outputs": [
    {
     "name": "stdout",
     "output_type": "stream",
     "text": [
      "1\n",
      "2\n",
      "3\n"
     ]
    },
    {
     "data": {
      "text/plain": [
       "\u001b[36mres3\u001b[39m: \u001b[32mOption\u001b[39m[\u001b[32mCons\u001b[39m[\u001b[32mString\u001b[39m, \u001b[32mCons\u001b[39m[\u001b[32mString\u001b[39m, \u001b[32mNil\u001b[39m[\u001b[32mString\u001b[39m]]]] = \u001b[32mNone\u001b[39m"
      ]
     },
     "execution_count": 4,
     "metadata": {},
     "output_type": "execute_result"
    }
   ],
   "source": [
    "ReadList[Cons[String, Cons[String, Nil[String]]]]"
   ]
  },
  {
   "cell_type": "code",
   "execution_count": 5,
   "id": "9b0a69f3",
   "metadata": {},
   "outputs": [
    {
     "name": "stdout",
     "output_type": "stream",
     "text": [
      "1\n",
      "2\n",
      "\n"
     ]
    },
    {
     "data": {
      "text/plain": [
       "\u001b[36mres4\u001b[39m: \u001b[32mOption\u001b[39m[\u001b[32mCons\u001b[39m[\u001b[32mString\u001b[39m, \u001b[32mCons\u001b[39m[\u001b[32mString\u001b[39m, \u001b[32mNil\u001b[39m[\u001b[32mString\u001b[39m]]]] = \u001b[33mSome\u001b[39m(\n",
       "  \u001b[33mCons\u001b[39m(\u001b[32m\"1\"\u001b[39m, \u001b[33mCons\u001b[39m(\u001b[32m\"2\"\u001b[39m, Nil()))\n",
       ")"
      ]
     },
     "execution_count": 5,
     "metadata": {},
     "output_type": "execute_result"
    }
   ],
   "source": [
    "ReadList[Cons[String, Cons[String, Nil[String]]]]"
   ]
  },
  {
   "cell_type": "markdown",
   "id": "75906a87",
   "metadata": {},
   "source": [
    "This function reads a generic list from the standard input (the shape is lost):\n"
   ]
  },
  {
   "cell_type": "code",
   "execution_count": 6,
   "id": "16dede7a",
   "metadata": {},
   "outputs": [
    {
     "data": {
      "text/plain": [
       "defined \u001b[32mfunction\u001b[39m \u001b[36mgen\u001b[39m"
      ]
     },
     "execution_count": 6,
     "metadata": {},
     "output_type": "execute_result"
    }
   ],
   "source": [
    "def gen: List[String] = {\n",
    "    val head: String = readLine\n",
    "    if (head == \"\") Nil[String]()\n",
    "    else Cons(head, gen)\n",
    "}"
   ]
  },
  {
   "cell_type": "code",
   "execution_count": 7,
   "id": "a8841825",
   "metadata": {},
   "outputs": [
    {
     "name": "stdout",
     "output_type": "stream",
     "text": [
      "1\n",
      "2\n",
      "\n"
     ]
    },
    {
     "data": {
      "text/plain": [
       "\u001b[36ml\u001b[39m: \u001b[32mList\u001b[39m[\u001b[32mString\u001b[39m] = \u001b[33mCons\u001b[39m(\u001b[32m\"1\"\u001b[39m, \u001b[33mCons\u001b[39m(\u001b[32m\"2\"\u001b[39m, Nil()))"
      ]
     },
     "execution_count": 7,
     "metadata": {},
     "output_type": "execute_result"
    }
   ],
   "source": [
    "val l: List[String] = gen"
   ]
  },
  {
   "cell_type": "markdown",
   "id": "91e683f1",
   "metadata": {},
   "source": [
    "But we may reconstruct the type-level function given a generic list:"
   ]
  },
  {
   "cell_type": "code",
   "execution_count": 8,
   "id": "d4f3fc4f",
   "metadata": {},
   "outputs": [
    {
     "data": {
      "text/plain": [
       "defined \u001b[32mfunction\u001b[39m \u001b[36mreadListOfShape\u001b[39m"
      ]
     },
     "execution_count": 8,
     "metadata": {},
     "output_type": "execute_result"
    }
   ],
   "source": [
    " def readListOfShape(l: List[String]): ReadList[_ <: List[String]] = \n",
    "    l match {\n",
    "        case Nil() => \n",
    "            ReadList.NilReadList\n",
    "        case Cons(head, tail: List[String]) => \n",
    "            ReadList.ConsReadList(readListOfShape(tail))\n",
    "    }  \n"
   ]
  },
  {
   "cell_type": "markdown",
   "id": "bca3c95f",
   "metadata": {},
   "source": [
    "The result of the previous function is an existential type, but we can read now a new list from the standard input of the same exact shape that the one read before:"
   ]
  },
  {
   "cell_type": "code",
   "execution_count": 9,
   "id": "5d93efcd",
   "metadata": {},
   "outputs": [
    {
     "name": "stdout",
     "output_type": "stream",
     "text": [
      "1\n",
      "2\n",
      "3\n"
     ]
    },
    {
     "data": {
      "text/plain": [
       "\u001b[36mres8\u001b[39m: \u001b[32mOption\u001b[39m[\u001b[32mList\u001b[39m[\u001b[32mString\u001b[39m]] = \u001b[32mNone\u001b[39m"
      ]
     },
     "execution_count": 9,
     "metadata": {},
     "output_type": "execute_result"
    }
   ],
   "source": [
    "readListOfShape(l)()"
   ]
  },
  {
   "cell_type": "code",
   "execution_count": 11,
   "id": "ad3d285c",
   "metadata": {},
   "outputs": [
    {
     "name": "stdout",
     "output_type": "stream",
     "text": [
      "1\n",
      "2\n",
      "\n"
     ]
    },
    {
     "data": {
      "text/plain": [
       "\u001b[36mres10\u001b[39m: \u001b[32mOption\u001b[39m[\u001b[32mList\u001b[39m[\u001b[32mString\u001b[39m]] = \u001b[33mSome\u001b[39m(\u001b[33mCons\u001b[39m(\u001b[32m\"1\"\u001b[39m, \u001b[33mCons\u001b[39m(\u001b[32m\"2\"\u001b[39m, Nil())))"
      ]
     },
     "execution_count": 11,
     "metadata": {},
     "output_type": "execute_result"
    }
   ],
   "source": [
    "readListOfShape(l)()"
   ]
  },
  {
   "cell_type": "code",
   "execution_count": null,
   "id": "ddaaa362",
   "metadata": {},
   "outputs": [],
   "source": []
  }
 ],
 "metadata": {
  "kernelspec": {
   "display_name": "Scala",
   "language": "scala",
   "name": "scala"
  },
  "language_info": {
   "codemirror_mode": "text/x-scala",
   "file_extension": ".sc",
   "mimetype": "text/x-scala",
   "name": "scala",
   "nbconvert_exporter": "script",
   "version": "2.13.1"
  }
 },
 "nbformat": 4,
 "nbformat_minor": 5
}
